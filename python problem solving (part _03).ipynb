{
 "cells": [
  {
   "cell_type": "markdown",
   "id": "fd939e76",
   "metadata": {},
   "source": [
    "# python problem solving part: 03"
   ]
  },
  {
   "cell_type": "markdown",
   "id": "3890cc4f",
   "metadata": {},
   "source": [
    "# 16. Time Classification: "
   ]
  },
  {
   "cell_type": "code",
   "execution_count": null,
   "id": "a06ddab0",
   "metadata": {},
   "outputs": [],
   "source": [
    "time_in_hours = int(input(\"Enter the time in hours (24-hour format): \"))\n",
    "\n",
    "if 0 <= time_in_hours < 6:\n",
    "    greeting = \"Good Night\"\n",
    "elif 6 <= time_in_hours < 12:\n",
    "    greeting = \"Good Morning\"\n",
    "elif 12 <= time_in_hours < 18:\n",
    "    greeting = \"Good Afternoon\"\n",
    "elif 18 <= time_in_hours <= 23:\n",
    "    greeting = \"Good Evening\"\n",
    "else:\n",
    "    greeting = \"Invalid time input\"\n",
    "\n",
    "# Print the result\n",
    "print(f\"{greeting}!\")"
   ]
  },
  {
   "cell_type": "markdown",
   "id": "9b48c0ec",
   "metadata": {},
   "source": [
    "# 17. Triangle Type Checker:"
   ]
  },
  {
   "cell_type": "code",
   "execution_count": null,
   "id": "04140d1c",
   "metadata": {},
   "outputs": [],
   "source": [
    "side1 =int(input(\"Enter the length of the first side: \"))\n",
    "side2 = int(input(\"Enter the length of the second side: \"))\n",
    "side3 = int(input(\"Enter the length of the third side: \"))\n",
    "\n",
    "# Check the type of triangle\n",
    "if side1 == side2 == side3:\n",
    "    triangle_type = \"Equilateral\"\n",
    "elif side1 == side2 or side1 == side3 or side2 == side3:\n",
    "    triangle_type = \"Isosceles\"\n",
    "else:\n",
    "    triangle_type = \"Scalene\"\n",
    "\n",
    "# Check if the sides form a valid triangle\n",
    "if side1 + side2 > side3 and side1 + side3 > side2 and side2 + side3 > side1:\n",
    "    # Print the result if it's a valid triangle\n",
    "    print(f\"The sides form a {triangle_type} triangle.\")\n",
    "else:\n",
    "    print(\"The given side lengths do not form a valid triangle.\")\n"
   ]
  },
  {
   "cell_type": "markdown",
   "id": "ed1e2014",
   "metadata": {},
   "source": [
    "# 18. Quadratic Equation Solver:"
   ]
  },
  {
   "cell_type": "code",
   "execution_count": null,
   "id": "6ca6509a",
   "metadata": {},
   "outputs": [],
   "source": [
    "import math\n",
    "\n",
    "#the quadratic equation\n",
    "a = float(input(\"Enter the coefficient a: \"))\n",
    "b = float(input(\"Enter the coefficient b: \"))\n",
    "c = float(input(\"Enter the coefficient c: \"))\n",
    "\n",
    "# Calculate the discriminant\n",
    "discriminant = b**2 - 4*a*c\n",
    "\n",
    "# Check  the roots are real or complex\n",
    "if discriminant > 0:\n",
    "    root1 = (-b + math.sqrt(discriminant)) / (2*a)\n",
    "    root2 = (-b - math.sqrt(discriminant)) / (2*a)\n",
    "    print(f\"The roots are real and distinct: {root1} and {root2}\")\n",
    "elif discriminant == 0:\n",
    "    root = -b / (2*a)\n",
    "    print(f\"The roots are real and equal: {root}\")\n",
    "else:\n",
    "    # Complex roots is here \n",
    "    real_part = -b / (2*a)\n",
    "    imaginary_part = math.sqrt(abs(discriminant)) / (2*a)\n",
    "    complex_root1 = complex(real_part, imaginary_part)\n",
    "    complex_root2 = complex(real_part, -imaginary_part)\n",
    "    print(f\"The roots are complex: {complex_root1} and {complex_root2}\")\n"
   ]
  },
  {
   "cell_type": "markdown",
   "id": "5c1b9815",
   "metadata": {},
   "source": [
    "# 19. Number Ranges:"
   ]
  },
  {
   "cell_type": "code",
   "execution_count": null,
   "id": "9be8fbba",
   "metadata": {},
   "outputs": [],
   "source": [
    "number = int(input(\"Enter an integer: \"))\n",
    "\n",
    "# Check the range of the number\n",
    "if 0 <= number <= 50:\n",
    "    print(f\"{number} falls in the range 0-50.\")\n",
    "elif 51 <= number <= 100:\n",
    "    print(f\"{number} falls in the range 51-100.\")\n",
    "elif 101 <= number <= 150:\n",
    "    print(f\"{number} falls in the range 101-150.\")\n",
    "elif number > 150:\n",
    "    print(f\"{number} is above 150.\")\n",
    "else:\n",
    "    print(f\"{number} is below 0.\")"
   ]
  },
  {
   "cell_type": "markdown",
   "id": "7027e5f2",
   "metadata": {},
   "source": [
    "# 20. Sum of N Numbers:"
   ]
  },
  {
   "cell_type": "code",
   "execution_count": null,
   "id": "bcdfd722",
   "metadata": {},
   "outputs": [],
   "source": [
    "#input N\n",
    "N = int(input(\"Enter a positive integer (N): \"))\n",
    "\n",
    "# Initialize the sum\n",
    "sum_of_numbers = 0\n",
    "\n",
    "# using for loop\n",
    "for i in range(1, N + 1):\n",
    "    sum_of_numbers += i\n",
    "print(f\"The sum of the first {N} natural numbers is: {sum_of_numbers}\")\n"
   ]
  },
  {
   "cell_type": "markdown",
   "id": "b7eb31be",
   "metadata": {},
   "source": [
    "# 21. Factorial Calculator:"
   ]
  },
  {
   "cell_type": "code",
   "execution_count": null,
   "id": "b9b332f5",
   "metadata": {},
   "outputs": [],
   "source": [
    "# input N\n",
    "N = int(input(\"Enter a non-negative integer (N): \"))\n",
    "\n",
    "# Initialize the factorial\n",
    "factorial = \n",
    "\n",
    "#used while loop \n",
    "i = 1\n",
    "while i <= N:\n",
    "    factorial *= i\n",
    "    i += 1\n",
    "print(f\"The factorial of {N} is: {factorial}\")"
   ]
  },
  {
   "cell_type": "markdown",
   "id": "a164a657",
   "metadata": {},
   "source": [
    "# 22. Table of a Number: "
   ]
  },
  {
   "cell_type": "code",
   "execution_count": null,
   "id": "c29bed85",
   "metadata": {},
   "outputs": [],
   "source": [
    "# input N from user\n",
    "N = int(input(\"Enter a number for the multiplication table: \"))\n",
    "print(f\"Multiplication table for {N}:\")\n",
    "for i in range(1, 11):\n",
    "    result = N * i\n",
    "    print(f\"{N} x {i} = {result}\")"
   ]
  },
  {
   "cell_type": "markdown",
   "id": "f3005601",
   "metadata": {},
   "source": [
    "# 23. Count Digits in a Number:"
   ]
  },
  {
   "cell_type": "code",
   "execution_count": null,
   "id": "bb4f583f",
   "metadata": {},
   "outputs": [],
   "source": [
    "#input value of N from user\n",
    "N = int(input(\"Enter an integer: \"))\n",
    "digit_count = 0\n",
    "# i used while loop here\n",
    "while N != 0:\n",
    "    N //= 10  # Removing the last digit\n",
    "    digit_count += 1\n",
    "print(f\"The number of digits in the given integer is: {digit_count}\")"
   ]
  },
  {
   "cell_type": "markdown",
   "id": "4a92bc79",
   "metadata": {},
   "source": [
    "# 24. Fibonacci Sequence:"
   ]
  },
  {
   "cell_type": "code",
   "execution_count": null,
   "id": "0027a6aa",
   "metadata": {},
   "outputs": [],
   "source": [
    "# Write a program to print fibonacci series upto n terms in python\n",
    "num = 10\n",
    "n1, n2 = 0, 1\n",
    "print(\"Fibonacci Series:\", n1, n2, end=\" \")\n",
    "for i in range(2, num):\n",
    "    n3 = n1 + n2\n",
    "    n1 = n2\n",
    "    n2 = n3\n",
    "    print(n3, end=\" \")\n",
    "\n",
    "print()"
   ]
  },
  {
   "cell_type": "markdown",
   "id": "58137d58",
   "metadata": {},
   "source": [
    "# 25. Sum of Even Numbers: "
   ]
  },
  {
   "cell_type": "code",
   "execution_count": null,
   "id": "fb6a8661",
   "metadata": {},
   "outputs": [],
   "source": [
    "# input N from user \n",
    "N = int(input(\"Enter a positive integer (N): \"))\n",
    "\n",
    "sum_of_evens = 0\n",
    "current_number = 2  # Start with the first even number\n",
    "\n",
    "while current_number <= N:\n",
    "    sum_of_evens += current_number\n",
    "    current_number += 2  # Move to the next even number\n",
    "print(f\"The sum of even numbers between 1 and {N} is: {sum_of_evens}\")"
   ]
  },
  {
   "cell_type": "code",
   "execution_count": null,
   "id": "a3f4d1f5",
   "metadata": {},
   "outputs": [],
   "source": []
  }
 ],
 "metadata": {
  "kernelspec": {
   "display_name": "Python 3 (ipykernel)",
   "language": "python",
   "name": "python3"
  },
  "language_info": {
   "codemirror_mode": {
    "name": "ipython",
    "version": 3
   },
   "file_extension": ".py",
   "mimetype": "text/x-python",
   "name": "python",
   "nbconvert_exporter": "python",
   "pygments_lexer": "ipython3",
   "version": "3.11.5"
  }
 },
 "nbformat": 4,
 "nbformat_minor": 5
}
